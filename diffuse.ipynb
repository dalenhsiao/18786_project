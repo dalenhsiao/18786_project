{
 "cells": [
  {
   "cell_type": "code",
   "execution_count": 5,
   "metadata": {},
   "outputs": [],
   "source": [
    "import os\n",
    "import torch\n",
    "import torch.nn as nn\n",
    "from matplotlib import pyplot as plt\n",
    "from tqdm import tqdm\n",
    "from torch import optim\n",
    "# from utils import *\n",
    "# from modules import UNet\n",
    "import logging\n",
    "from torch.utils.tensorboard import SummaryWriter"
   ]
  },
  {
   "cell_type": "markdown",
   "metadata": {},
   "source": [
    "# One step noise adding \n",
    "\n",
    "\n",
    "$$ \n",
    "\\sqrt{\\bar{\\alpha}}x_0 + \\sqrt(1-\\bar{\\alpha_t})\\epsilon\n",
    "$$\n"
   ]
  },
  {
   "cell_type": "code",
   "execution_count": null,
   "metadata": {},
   "outputs": [],
   "source": [
    "logging.basicConfig(format=\"%(asctime)s - %(levelname)s: %(message)s\", level=logging.INFO, datefmt=\"%I:%M:%S\")\n",
    "\n",
    "\n",
    "class Diffusion: # Diffusion process \n",
    "    self.noise_steps = noise_steps\n",
    "    self.beta_start = beta_start\n",
    "    self.beta_end = beta_end\n",
    "    self.img_size = img_size\n",
    "    self.device = device\n",
    "\n",
    "    self.beta = self.prepare_noise_schedule().to(device)\n",
    "    self.alpha = 1. - self.beta\n",
    "    self.alpha_hat = torch.cumprod(self.alpha, dim=0)\n",
    "\n",
    "\n",
    "    # linear schedule from DDPM\n",
    "    # can also easily switch to cosine schedule proposed by openAI\n",
    "    def prepare_noise_schedule(self): \n",
    "        return torch.linspace(self.beta_start, self.beta_end, self.noise_steps) # linear schedule\n",
    "    \n",
    "    # one step add noise \n",
    "    def noise_images(self, x, t):\n",
    "        \n",
    "    \n",
    "    "
   ]
  }
 ],
 "metadata": {
  "kernelspec": {
   "display_name": "py39",
   "language": "python",
   "name": "python3"
  },
  "language_info": {
   "codemirror_mode": {
    "name": "ipython",
    "version": 3
   },
   "file_extension": ".py",
   "mimetype": "text/x-python",
   "name": "python",
   "nbconvert_exporter": "python",
   "pygments_lexer": "ipython3",
   "version": "3.9.18"
  }
 },
 "nbformat": 4,
 "nbformat_minor": 2
}
